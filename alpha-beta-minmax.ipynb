{
 "cells": [
  {
   "cell_type": "code",
   "execution_count": 1,
   "metadata": {},
   "outputs": [],
   "source": [
    "# Import file\n",
    "def Read_file(filename):\n",
    "    lines = open(filename + \".txt\").read().splitlines()\n",
    "    num_hero_pool = int(lines[0])\n",
    "    algorithm = lines[1]\n",
    "    heros_list = []\n",
    "    for line in lines[2:]:\n",
    "        heros_list.append(list(eval(line)))\n",
    "    hero_id_list = list(heros_list[i][0]for i in range(num_hero_pool))\n",
    "    hero_membership_list = list(heros_list[i][4]for i in range(num_hero_pool))\n",
    "    \n",
    "    heros_pool = {key: value for (key, value) in zip(hero_id_list, heros_list)}\n",
    "    heros_membership = {key: value for (key, value) in zip(hero_id_list, hero_membership_list)}\n",
    "    initial_level = 0\n",
    "    for key in heros_membership:\n",
    "        if heros_membership[key] != 0:\n",
    "            initial_level += 1\n",
    "    return initial_level, heros_pool, heros_membership\n",
    "\n",
    "def Write_output(best_hero):\n",
    "    output_file = open(\"output.txt\",\"w\")\n",
    "    output_file.write(str(best_hero))\n",
    "    output_file.close()"
   ]
  },
  {
   "cell_type": "code",
   "execution_count": 2,
   "metadata": {},
   "outputs": [],
   "source": [
    "class State:\n",
    "    def __init__(self, level, player, heros_membership):\n",
    "        self.level = level\n",
    "        self.player = player\n",
    "        self.heros_membership = heros_membership\n",
    "\n",
    "    def next_state(self, hero_id):\n",
    "        new_level = self.level + 1\n",
    "        new_player = -self.player\n",
    "        new_heros_membership = self.heros_membership.copy()\n",
    "    \n",
    "        if new_player == 1:\n",
    "            new_heros_membership[hero_id] = 2\n",
    "        else:\n",
    "            new_heros_membership[hero_id] = 1\n",
    "        \n",
    "        return State(new_level, new_player, new_heros_membership)\n",
    "    \n",
    "    def cal_advantage(self, heros_pool):\n",
    "        my_last_digit=[]\n",
    "        my_synergy = 120\n",
    "        my_power = 0\n",
    "        opponent_last_digit=[]\n",
    "        opponent_senergy = 120\n",
    "        opponent_power = 0\n",
    "        for hero in self.heros_membership:\n",
    "            if self.heros_membership[hero] == 1:\n",
    "                my_power += heros_pool[hero][1] * heros_pool[hero][2]\n",
    "                if hero % 10 in my_last_digit:\n",
    "                    my_synergy = 0\n",
    "                else:\n",
    "                    my_last_digit.append(hero % 10)\n",
    "            elif self.heros_membership[hero] == 2:\n",
    "                opponent_power += heros_pool[hero][1] * heros_pool[hero][3]\n",
    "                if hero % 10 in opponent_last_digit:\n",
    "                    opponent_senergy = 0\n",
    "                else:\n",
    "                    opponent_last_digit.append(hero % 10)\n",
    "        \n",
    "        return (my_synergy+my_power) - (opponent_senergy+opponent_power)"
   ]
  },
  {
   "cell_type": "code",
   "execution_count": 3,
   "metadata": {},
   "outputs": [],
   "source": [
    "def Alpha_beta_minmax(state):\n",
    "    global heros_pool\n",
    "    \n",
    "    best_hero = None\n",
    "    advantage = -float('inf')\n",
    "    state_children = {}\n",
    "    \n",
    "    for hero_id in state.heros_membership:\n",
    "        if state.heros_membership[hero_id] == 0:\n",
    "            state_children[hero_id] = state.next_state(hero_id)\n",
    "            \n",
    "    for hero_id in state_children:\n",
    "        new_advantage = Alpha_beta_min_value(state_children[hero_id], -float('inf'), float('inf'))\n",
    "        if new_advantage > advantage or (new_advantage==advantage and hero_id<best_hero):\n",
    "            advantage = new_advantage\n",
    "            best_hero = hero_id\n",
    "\n",
    "    return best_hero"
   ]
  },
  {
   "cell_type": "code",
   "execution_count": 4,
   "metadata": {},
   "outputs": [],
   "source": [
    "def Alpha_beta_max_value(state, alpha, beta):\n",
    "    global heros_pool\n",
    "    \n",
    "    if state.level >= 10:\n",
    "        return state.cal_advantage(heros_pool)\n",
    "    \n",
    "    advantage = -float('inf')\n",
    "    state_children = {}\n",
    "    \n",
    "    for hero_id in state.heros_membership:\n",
    "        if state.heros_membership[hero_id] == 0:\n",
    "            state_children[hero_id] = state.next_state(hero_id)\n",
    "            \n",
    "    for hero_id in state_children:\n",
    "        new_advantage = Alpha_beta_min_value(state_children[hero_id], alpha, beta)\n",
    "        advantage = max(advantage, new_advantage)\n",
    "        if advantage >= beta:\n",
    "            return advantage\n",
    "        alpha = max(alpha, advantage)\n",
    "            \n",
    "    return advantage"
   ]
  },
  {
   "cell_type": "code",
   "execution_count": 5,
   "metadata": {},
   "outputs": [],
   "source": [
    "def Alpha_beta_min_value(state, alpha, beta):\n",
    "    global heros_pool\n",
    "    \n",
    "    if state.level >= 10:\n",
    "        return state.cal_advantage(heros_pool)\n",
    "    \n",
    "    advantage = float('inf')\n",
    "    \n",
    "    state_children = {}\n",
    "    \n",
    "    for hero_id in state.heros_membership:\n",
    "        if state.heros_membership[hero_id] == 0:\n",
    "            state_children[hero_id] = state.next_state(hero_id)\n",
    "\n",
    "    for hero_id in state_children:\n",
    "        new_advantage = Alpha_beta_max_value(state_children[hero_id], alpha, beta)\n",
    "        advantage = min(advantage, new_advantage)\n",
    "        if advantage <= alpha:\n",
    "            return advantage\n",
    "        beta = min(beta, advantage)\n",
    "\n",
    "    return advantage"
   ]
  },
  {
   "cell_type": "code",
   "execution_count": 6,
   "metadata": {},
   "outputs": [
    {
     "name": "stdout",
     "output_type": "stream",
     "text": [
      "39203\n",
      "19.1659998894 seconds\n"
     ]
    }
   ],
   "source": [
    "if __name__== \"__main__\":\n",
    "    import time\n",
    "    start_time = time.time()\n",
    "    filename = \"test_case/input9\"\n",
    "    initial_level, heros_pool, membership = Read_file(filename)\n",
    "    initial_state = State(initial_level,1,membership)\n",
    "    \n",
    "    best_hero = Alpha_beta_minmax(initial_state)\n",
    "    Write_output(best_hero)\n",
    "    \n",
    "    print best_hero\n",
    "    print time.time()-start_time, \"seconds\""
   ]
  }
 ],
 "metadata": {
  "kernelspec": {
   "display_name": "Python 2",
   "language": "python",
   "name": "python2"
  },
  "language_info": {
   "codemirror_mode": {
    "name": "ipython",
    "version": 2
   },
   "file_extension": ".py",
   "mimetype": "text/x-python",
   "name": "python",
   "nbconvert_exporter": "python",
   "pygments_lexer": "ipython2",
   "version": "2.7.15"
  }
 },
 "nbformat": 4,
 "nbformat_minor": 2
}
